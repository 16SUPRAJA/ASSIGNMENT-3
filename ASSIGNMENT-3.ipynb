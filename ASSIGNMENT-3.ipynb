{
 "cells": [
  {
   "cell_type": "markdown",
   "id": "5aad60cd",
   "metadata": {},
   "source": [
    "## 1. Why are functions advantageous to have in your programs?\n"
   ]
  },
  {
   "cell_type": "markdown",
   "id": "a847e10c",
   "metadata": {},
   "source": [
    "Functions reduce the need for duplicate code. This makes programs shorter, easier to read, and easier to update."
   ]
  },
  {
   "cell_type": "markdown",
   "id": "1a14837a",
   "metadata": {},
   "source": [
    "## 2. When does the code in a function run: when it's specified or when it's called?\n"
   ]
  },
  {
   "cell_type": "markdown",
   "id": "2ccf1f62",
   "metadata": {},
   "source": [
    "Code in the function run when it is called not when specified."
   ]
  },
  {
   "cell_type": "markdown",
   "id": "5ff4c999",
   "metadata": {},
   "source": [
    "## 3. What statement creates a function?\n"
   ]
  },
  {
   "cell_type": "markdown",
   "id": "64778fcd",
   "metadata": {},
   "source": [
    "the keyword 'def'  creates a function "
   ]
  },
  {
   "cell_type": "markdown",
   "id": "53c82008",
   "metadata": {},
   "source": [
    "## 4. What is the difference between a function and a function call?"
   ]
  },
  {
   "cell_type": "markdown",
   "id": "a8f2f731",
   "metadata": {},
   "source": [
    "A function is a gap where we write code for a particular operation, it is defined by keyword 'def' and ended with parenthasis and colon. where function call is getting the output for the function we defined earlier.A function is not accessed until it is called."
   ]
  },
  {
   "cell_type": "markdown",
   "id": "a531865c",
   "metadata": {},
   "source": [
    "## 5. How many global scopes are there in a Python program? How many local scopes?"
   ]
  },
  {
   "cell_type": "markdown",
   "id": "79c56a8c",
   "metadata": {},
   "source": [
    "There is only one global scope for one execution in python (eg:class). But there can be multiple local scopes (eg:any number of functions we can define) "
   ]
  },
  {
   "cell_type": "markdown",
   "id": "d7c9059d",
   "metadata": {},
   "source": [
    "## 6. What happens to variables in a local scope when the function call returns?\n"
   ]
  },
  {
   "cell_type": "markdown",
   "id": "df038f9a",
   "metadata": {},
   "source": [
    "The local variables disappear after the function returns. local variables execute only when the function is being executed.pointer goes back to step one waits until the function is called after complete execution."
   ]
  },
  {
   "cell_type": "code",
   "execution_count": 12,
   "id": "2d469999",
   "metadata": {},
   "outputs": [
    {
     "ename": "NameError",
     "evalue": "name 'y' is not defined",
     "output_type": "error",
     "traceback": [
      "\u001b[1;31m---------------------------------------------------------------------------\u001b[0m",
      "\u001b[1;31mNameError\u001b[0m                                 Traceback (most recent call last)",
      "\u001b[1;32m<ipython-input-12-70d3bd7aa2bb>\u001b[0m in \u001b[0;36m<module>\u001b[1;34m\u001b[0m\n\u001b[0;32m      2\u001b[0m     \u001b[0my\u001b[0m \u001b[1;33m=\u001b[0m \u001b[0ma\u001b[0m\u001b[1;33m+\u001b[0m\u001b[0mb\u001b[0m\u001b[1;33m\u001b[0m\u001b[1;33m\u001b[0m\u001b[0m\n\u001b[0;32m      3\u001b[0m     \u001b[1;32mreturn\u001b[0m \u001b[0my\u001b[0m\u001b[1;33m\u001b[0m\u001b[1;33m\u001b[0m\u001b[0m\n\u001b[1;32m----> 4\u001b[1;33m \u001b[0mprint\u001b[0m\u001b[1;33m(\u001b[0m\u001b[0my\u001b[0m\u001b[1;33m)\u001b[0m\u001b[1;33m\u001b[0m\u001b[1;33m\u001b[0m\u001b[0m\n\u001b[0m",
      "\u001b[1;31mNameError\u001b[0m: name 'y' is not defined"
     ]
    }
   ],
   "source": [
    "def add(a,b):\n",
    "    y = a+b\n",
    "    return y\n",
    "print(y)"
   ]
  },
  {
   "cell_type": "markdown",
   "id": "cf9ec2bf",
   "metadata": {},
   "source": [
    "## 7. What is the concept of a return value? Is it possible to have a return value in an expression?\n"
   ]
  },
  {
   "cell_type": "markdown",
   "id": "9bf21c94",
   "metadata": {},
   "source": [
    "Return is a keyword to get the same data type which we had given in our code even after execution, unlike print where print returns to string after execution. Return gives the value to the function, the output is obtained when the function is called. It possible to have return value in an expression."
   ]
  },
  {
   "cell_type": "markdown",
   "id": "da4259fb",
   "metadata": {},
   "source": [
    "## 8. If a function does not have a return statement, what is the return value of a call to that function?"
   ]
  },
  {
   "cell_type": "markdown",
   "id": "f38e053e",
   "metadata": {},
   "source": [
    "When a function doesnot have return statement it gives nothing, it is possible to write a function without a return statement, they return None."
   ]
  },
  {
   "cell_type": "markdown",
   "id": "6c481adb",
   "metadata": {},
   "source": [
    "## 9. How do you make a function variable refer to the global variable?\n"
   ]
  },
  {
   "cell_type": "markdown",
   "id": "a5b6c7da",
   "metadata": {},
   "source": [
    "If we want to refer a function variable to the global variable, you can use the global keyword to declare which variables are global."
   ]
  },
  {
   "cell_type": "markdown",
   "id": "85987083",
   "metadata": {},
   "source": [
    "## 10. What is the data type of None?"
   ]
  },
  {
   "cell_type": "markdown",
   "id": "b6e22d39",
   "metadata": {},
   "source": [
    "None has its own datatype called nonetype."
   ]
  },
  {
   "cell_type": "code",
   "execution_count": 2,
   "id": "f77ebac9",
   "metadata": {},
   "outputs": [
    {
     "data": {
      "text/plain": [
       "NoneType"
      ]
     },
     "execution_count": 2,
     "metadata": {},
     "output_type": "execute_result"
    }
   ],
   "source": [
    "type(None)"
   ]
  },
  {
   "cell_type": "markdown",
   "id": "9a228139",
   "metadata": {},
   "source": [
    "## 11. What does the sentence import areallyourpetsnamederic do?"
   ]
  },
  {
   "cell_type": "code",
   "execution_count": 3,
   "id": "37788b02",
   "metadata": {},
   "outputs": [
    {
     "ename": "ModuleNotFoundError",
     "evalue": "No module named 'areallyourpetsnamederic'",
     "output_type": "error",
     "traceback": [
      "\u001b[1;31m---------------------------------------------------------------------------\u001b[0m",
      "\u001b[1;31mModuleNotFoundError\u001b[0m                       Traceback (most recent call last)",
      "\u001b[1;32m<ipython-input-3-bc0a7cc000f7>\u001b[0m in \u001b[0;36m<module>\u001b[1;34m\u001b[0m\n\u001b[1;32m----> 1\u001b[1;33m \u001b[1;32mimport\u001b[0m \u001b[0mareallyourpetsnamederic\u001b[0m\u001b[1;33m\u001b[0m\u001b[1;33m\u001b[0m\u001b[0m\n\u001b[0m",
      "\u001b[1;31mModuleNotFoundError\u001b[0m: No module named 'areallyourpetsnamederic'"
     ]
    }
   ],
   "source": [
    " import areallyourpetsnamederic "
   ]
  },
  {
   "cell_type": "markdown",
   "id": "b504791d",
   "metadata": {},
   "source": [
    "This is not a python module"
   ]
  },
  {
   "cell_type": "markdown",
   "id": "3fe70666",
   "metadata": {},
   "source": [
    "## 12. If you had a bacon() feature in a spam module, what would you call it after importing spam?"
   ]
  },
  {
   "cell_type": "markdown",
   "id": "7a84d0b5",
   "metadata": {},
   "source": [
    "After importing spam module we write spam.bacon()"
   ]
  },
  {
   "cell_type": "markdown",
   "id": "7bebfbe4",
   "metadata": {},
   "source": [
    "## 13. What can you do to save a programme from crashing if it encounters an error?\n"
   ]
  },
  {
   "cell_type": "markdown",
   "id": "c360d229",
   "metadata": {},
   "source": [
    "That code is put in 'try' to save a programme from crashing if it encounters an error?\n"
   ]
  },
  {
   "cell_type": "markdown",
   "id": "e86080c3",
   "metadata": {},
   "source": [
    "## 14. What is the purpose of the try clause? What is the purpose of the except clause?"
   ]
  },
  {
   "cell_type": "markdown",
   "id": "3250c710",
   "metadata": {},
   "source": [
    "when there is a problem with code we use try and exception. First it try to verify the code if there is a problem it goes to except block otherwise comes out of that block to next step."
   ]
  },
  {
   "cell_type": "code",
   "execution_count": null,
   "id": "fc6cfb1b",
   "metadata": {},
   "outputs": [],
   "source": []
  }
 ],
 "metadata": {
  "kernelspec": {
   "display_name": "Python 3",
   "language": "python",
   "name": "python3"
  },
  "language_info": {
   "codemirror_mode": {
    "name": "ipython",
    "version": 3
   },
   "file_extension": ".py",
   "mimetype": "text/x-python",
   "name": "python",
   "nbconvert_exporter": "python",
   "pygments_lexer": "ipython3",
   "version": "3.8.8"
  }
 },
 "nbformat": 4,
 "nbformat_minor": 5
}
